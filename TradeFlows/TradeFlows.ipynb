{
 "cells": [
  {
   "cell_type": "markdown",
   "id": "69028c91",
   "metadata": {},
   "source": [
    "# Import Modules and Data"
   ]
  },
  {
   "cell_type": "code",
   "execution_count": 1,
   "id": "1badb5dc",
   "metadata": {
    "ExecuteTime": {
     "end_time": "2022-04-06T22:58:39.437602Z",
     "start_time": "2022-04-06T22:57:28.380384Z"
    }
   },
   "outputs": [],
   "source": [
    "# import pandas \n",
    "\n",
    "import pandas as pd\n",
    "import numpy as np\n",
    "pd.set_option(\"display.max_rows\", None)\n",
    "pd.options.display.float_format = '{:20,.2f}'.format # format currency \n",
    "pd.options.mode.chained_assignment = None\n",
    "\n",
    "# import raw data \n",
    "\n",
    "datafile = 'Desktop/data/country_partner_sitcproduct2digit_year.dta'\n",
    "\n",
    "col = ['year','export_value',\n",
    "       'import_value','location_code',\n",
    "       'partner_code', 'sitc_product_code']\n",
    "\n",
    "df = pd.read_stata(datafile, columns = col)\n",
    "\n",
    "# import cpi data\n",
    "\n",
    "cpi = pd.read_excel('Desktop/data/CPI_Conversion.xlsx')\n",
    "\n",
    "# import SITC product data\n",
    "\n",
    "sitc_pc = pd.read_excel('Desktop/data/SITC_Conv.xlsx')\n",
    "\n",
    "# import GDP data\n",
    "\n",
    "gdp_data = pd.read_csv('Desktop/data/GDP(Constant).csv')"
   ]
  },
  {
   "cell_type": "markdown",
   "id": "a48d1179",
   "metadata": {},
   "source": [
    "# Create the Excel Generator Function"
   ]
  },
  {
   "cell_type": "code",
   "execution_count": 2,
   "id": "ca0ecf4a",
   "metadata": {
    "ExecuteTime": {
     "end_time": "2022-04-06T22:58:39.455432Z",
     "start_time": "2022-04-06T22:58:39.439985Z"
    }
   },
   "outputs": [],
   "source": [
    "def raw_to_excel(df, source_countries, partner_countries):\n",
    "    \"\"\"\n",
    "    This function converts international trade data (SITC, Rev.2) raw trade data provided \n",
    "    by the Harvard Dataverse into a more digestible excel notebook for SMEs. \n",
    "    \n",
    "    Ideally, this function is used to compare a single country's trade flows with \n",
    "    one or more countries. For every country passed via the source country argument, it will\n",
    "    produce an excel file with aggregate trade data with the list of partner countries. The countries\n",
    "    should be provided in alpha-3 or ISO 3166-1 format. \n",
    "    \n",
    "    All figures are adjusted for inflation in (CPI 2010 = 100 ; shorturl.at/ceCS4).\n",
    "    \n",
    "    Data sources:\n",
    "        raw trade data - https://dataverse.harvard.edu/dataset.xhtml?persistentId=doi:10.7910/DVN/H8SFD2\n",
    "        cpi data - shorturl.at/ceCS4 (data.worldbank.org)\n",
    "        sitc product data - https://unstats.un.org/unsd/classifications/Econ (SITC Rev. 2)\n",
    "        GDP data - https://www.worldbank.org/en/home\n",
    "     \n",
    "    \"\"\"\n",
    "    assert type(source_countries) is list, \"Please provide {} in a list\".format(source_countries)\n",
    "    assert type(partner_countries) is list, \"Please provide {} in a list\".format(partner_countries)\n",
    "    \n",
    "    cpi = pd.read_excel('Desktop/data/CPI_Conversion.xlsx')\n",
    "    \n",
    "    for source in source_countries:\n",
    "        # iterate through all source countries \n",
    "        \n",
    "        assert len(source) == 3, \"Please provide countries in alpha-3 or ISO 3166-1 format\"\n",
    "        \n",
    "        # create a df with source country and partner countries\n",
    "\n",
    "        source_partner = df[df.location_code.isin([source]) & df.partner_code.isin(partner_countries)]\n",
    "        \n",
    "        # reformat year \n",
    "        \n",
    "        source_partner['year'] = pd.to_datetime(source_partner['year'], format='%Y').dt.year\n",
    "        \n",
    "        # adjust cpi data\n",
    "        \n",
    "        cpi['CPI 2020'] = cpi['CPI 2020'].astype(int)\n",
    "        cpi['CPI 2020'] = pd.to_datetime(cpi['CPI 2020'], format='%Y').dt.year\n",
    "        cpi.rename(columns = {'Year ':'CPI 2020', 'CPI 2020':'year'}, inplace = True)\n",
    "        \n",
    "        # import SITC product code data\n",
    "        \n",
    "        sitc = sitc_pc[sitc_pc['Commodity Code'].apply(lambda x: str(x).isdigit())] # remove non-numerical codes\n",
    "        sitc['Commodity Code'] = sitc['Commodity Code'].astype(int)\n",
    "        sitc.rename(columns = {'Commodity Code':'sitc_product_code'}, inplace = True)\n",
    "        \n",
    "        # merge cpi and SITC product data\n",
    "        \n",
    "        source_partner['sitc_product_code'] = source_partner['sitc_product_code'].astype(int)\n",
    "        sp_sitc_code = source_partner.merge(cpi, on ='year', how = 'left')\n",
    "        sp_cpi = sp_sitc_code.merge(sitc, on ='sitc_product_code', how = 'left')\n",
    "        \n",
    "        # adjust for inflation \n",
    "        \n",
    "        adjusted_df = sp_cpi.copy()\n",
    "        adjusted_df['Adjusted Exports'] = (115.157 / sp_cpi['CPI 2020']) * sp_cpi['export_value']\n",
    "        adjusted_df['Adjusted Imports'] = (115.157 / sp_cpi['CPI 2020']) * sp_cpi['import_value']\n",
    "        \n",
    "        ### This portion begins the analysis\n",
    "        \n",
    "        # Average yearly trade \n",
    "        \n",
    "        avg_df = adjusted_df.copy()\n",
    "        avg_df = avg_df.groupby(['year']).mean()\n",
    "        \n",
    "        # Net trade flows\n",
    "        \n",
    "        net_df = adjusted_df.copy()\n",
    "        net_df = net_df.groupby(['year']).sum()\n",
    "        net_df['net exports'] = net_df['Adjusted Exports'] - net_df['Adjusted Imports']\n",
    "        net_df['Export percentage']= (net_df['Adjusted Exports']/net_df['Adjusted Exports'].sum())*100\n",
    "        net_df['Import percentage']= (net_df['Adjusted Imports']/net_df['Adjusted Imports'].sum())*100\n",
    "        \n",
    "        # Commodity average\n",
    "        \n",
    "        comm_avg = adjusted_df.copy()\n",
    "        comm_avg = comm_avg.groupby(['Commodity description']).mean()\n",
    "        \n",
    "        # Commodity sum\n",
    "        \n",
    "        comm_sum = adjusted_df.copy()\n",
    "        comm_sum = comm_sum.groupby(['Commodity description']).sum()\n",
    "        comm_sum['net exports'] = comm_sum['Adjusted Exports'] - comm_sum['Adjusted Imports']\n",
    "        percentage_ex = comm_sum['Adjusted Exports']/comm_sum['Adjusted Exports'].sum()\n",
    "        percentage_im = comm_sum['Adjusted Imports']/comm_sum['Adjusted Imports'].sum()\n",
    "        comm_sum['Export percentage']= (percentage_ex)*100\n",
    "        comm_sum['Import percentage']= (percentage_im)*100\n",
    "        \n",
    "        # Net country and year \n",
    "        \n",
    "        ncy = adjusted_df.copy()\n",
    "        ncy = ncy.groupby(['partner_code','year']).sum()\n",
    "        ncy['net exports'] = ncy['Adjusted Exports'] - ncy['Adjusted Imports']\n",
    "        \n",
    "        # Granular \n",
    "        \n",
    "        gran = adjusted_df.copy()\n",
    "        gran = gran.groupby(['partner_code','year','Commodity description']).sum()\n",
    "        gran['net exports'] = gran['Adjusted Exports'] - gran['Adjusted Imports']\n",
    "        \n",
    "        ### Percent of GDP\n",
    "        \n",
    "        gdp = gdp_data.replace({'..':np.nan})\n",
    "        gdp_source = gdp[['year',source]]\n",
    "        gdp_source[source] = gdp[source].astype(float)\n",
    "        gdp_source = gdp_source.dropna(subset = [source], axis = 0, how = 'all') # drop missing years\n",
    "        \n",
    "        # Merge with CPI\n",
    "        \n",
    "        gdp_adjusted = pd.merge(gdp_source, cpi, on = 'year', how = 'left')\n",
    "        gdp_adjusted['Adjusted GDP'] = (115.157 / gdp_adjusted['CPI 2020']) * gdp_adjusted[source]\n",
    "        \n",
    "        # Merge with Adjusted Data\n",
    "        \n",
    "        adj = adjusted_df.groupby('year').sum()\n",
    "     \n",
    "        pogdp = adj.merge(gdp_adjusted, on = 'year', how = 'left')\n",
    "        pogdp['Imports + Exports'] = pogdp['Adjusted Exports'] + pogdp['Adjusted Imports']\n",
    "        pogdp['% of GDP'] = (pogdp['Imports + Exports']/pogdp['Adjusted GDP']) * 100 \n",
    "        \n",
    "        # To excel \n",
    "        \n",
    "        with pd.ExcelWriter('{}_TradeLogs.xlsx'.format(source)) as writer:  \n",
    "            avg_df.to_excel(writer, sheet_name='Yearly Averages')\n",
    "            net_df.to_excel(writer, sheet_name='Yearly Sums and Net')\n",
    "            comm_avg.to_excel(writer, sheet_name='Commodity Averages')\n",
    "            comm_sum.to_excel(writer, sheet_name='Commodity Sums and Net')\n",
    "            ncy.to_excel(writer, sheet_name='Net Country and Year')\n",
    "            gran.to_excel(writer, sheet_name='Full Trade Log')\n",
    "            pogdp.to_excel(writer, sheet_name='PercentofGDP.xlsx')\n",
    "        \n",
    "        print(\"Success! Please look for a file called {}_TradeLogs.xlsx in your current directory\".format(source))"
   ]
  },
  {
   "cell_type": "code",
   "execution_count": 3,
   "id": "c6559a5b",
   "metadata": {
    "ExecuteTime": {
     "end_time": "2022-04-06T22:58:42.340009Z",
     "start_time": "2022-04-06T22:58:39.458057Z"
    }
   },
   "outputs": [
    {
     "name": "stdout",
     "output_type": "stream",
     "text": [
      "Success! Please look for a file called IRN_TradeLogs.xlsx in your current directory\n"
     ]
    }
   ],
   "source": [
    "raw_to_excel(df,['IRN'],['EGY','SWZ'])"
   ]
  }
 ],
 "metadata": {
  "kernelspec": {
   "display_name": "Python 3",
   "language": "python",
   "name": "python3"
  },
  "language_info": {
   "codemirror_mode": {
    "name": "ipython",
    "version": 3
   },
   "file_extension": ".py",
   "mimetype": "text/x-python",
   "name": "python",
   "nbconvert_exporter": "python",
   "pygments_lexer": "ipython3",
   "version": "3.8.8"
  }
 },
 "nbformat": 4,
 "nbformat_minor": 5
}
